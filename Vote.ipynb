{
  "nbformat": 4,
  "nbformat_minor": 0,
  "metadata": {
    "colab": {
      "name": "Vote",
      "provenance": []
    },
    "kernelspec": {
      "name": "python3",
      "display_name": "Python 3"
    },
    "language_info": {
      "name": "python"
    }
  },
  "cells": [
    {
      "cell_type": "markdown",
      "metadata": {
        "id": "mCjMMlNqpxgE"
      },
      "source": [
        "# Setup"
      ]
    },
    {
      "cell_type": "code",
      "metadata": {
        "id": "c-uJ_HyxhPmI",
        "colab": {
          "base_uri": "https://localhost:8080/"
        },
        "outputId": "7955fa94-28da-463a-b441-3dc4286cbd47"
      },
      "source": [
        "# Install microdf\n",
        "!pip install git+https://github.com/PSLmodels/microdf.git\n",
        "# update plotly\n",
        "!pip install plotly --upgrade\n",
        "\n",
        "!pip install git+http://github.com/ubicenter/ubicenter.py"
      ],
      "execution_count": 33,
      "outputs": [
        {
          "output_type": "stream",
          "text": [
            "Collecting git+https://github.com/PSLmodels/microdf.git\n",
            "  Cloning https://github.com/PSLmodels/microdf.git to /tmp/pip-req-build-2wy5o9ho\n",
            "  Running command git clone -q https://github.com/PSLmodels/microdf.git /tmp/pip-req-build-2wy5o9ho\n",
            "Requirement already satisfied (use --upgrade to upgrade): microdf==0.3.0 from git+https://github.com/PSLmodels/microdf.git in /usr/local/lib/python3.7/dist-packages\n",
            "Requirement already satisfied: matplotlib in /usr/local/lib/python3.7/dist-packages (from microdf==0.3.0) (3.2.2)\n",
            "Requirement already satisfied: matplotlib-label-lines in /usr/local/lib/python3.7/dist-packages (from microdf==0.3.0) (0.3.9)\n",
            "Requirement already satisfied: numpy in /usr/local/lib/python3.7/dist-packages (from microdf==0.3.0) (1.19.5)\n",
            "Requirement already satisfied: pandas in /usr/local/lib/python3.7/dist-packages (from microdf==0.3.0) (1.1.5)\n",
            "Requirement already satisfied: seaborn in /usr/local/lib/python3.7/dist-packages (from microdf==0.3.0) (0.11.1)\n",
            "Requirement already satisfied: kiwisolver>=1.0.1 in /usr/local/lib/python3.7/dist-packages (from matplotlib->microdf==0.3.0) (1.3.1)\n",
            "Requirement already satisfied: pyparsing!=2.0.4,!=2.1.2,!=2.1.6,>=2.0.1 in /usr/local/lib/python3.7/dist-packages (from matplotlib->microdf==0.3.0) (2.4.7)\n",
            "Requirement already satisfied: cycler>=0.10 in /usr/local/lib/python3.7/dist-packages (from matplotlib->microdf==0.3.0) (0.10.0)\n",
            "Requirement already satisfied: python-dateutil>=2.1 in /usr/local/lib/python3.7/dist-packages (from matplotlib->microdf==0.3.0) (2.8.1)\n",
            "Requirement already satisfied: pytz>=2017.2 in /usr/local/lib/python3.7/dist-packages (from pandas->microdf==0.3.0) (2018.9)\n",
            "Requirement already satisfied: scipy>=1.0 in /usr/local/lib/python3.7/dist-packages (from seaborn->microdf==0.3.0) (1.4.1)\n",
            "Requirement already satisfied: six in /usr/local/lib/python3.7/dist-packages (from cycler>=0.10->matplotlib->microdf==0.3.0) (1.15.0)\n",
            "Building wheels for collected packages: microdf\n",
            "  Building wheel for microdf (setup.py) ... \u001b[?25l\u001b[?25hdone\n",
            "  Created wheel for microdf: filename=microdf-0.3.0-cp37-none-any.whl size=26003 sha256=e427516d83bc46fbb6c2f983bca614586ab67cd82adb62f09cf976c266d422cc\n",
            "  Stored in directory: /tmp/pip-ephem-wheel-cache-i7j0cuk9/wheels/3d/53/af/92e56f83db191b0579d21e8385d61a92a502e66443b23c7e16\n",
            "Successfully built microdf\n",
            "Requirement already up-to-date: plotly in /usr/local/lib/python3.7/dist-packages (5.1.0)\n",
            "Requirement already satisfied, skipping upgrade: six in /usr/local/lib/python3.7/dist-packages (from plotly) (1.15.0)\n",
            "Requirement already satisfied, skipping upgrade: tenacity>=6.2.0 in /usr/local/lib/python3.7/dist-packages (from plotly) (7.0.0)\n",
            "Collecting git+http://github.com/ubicenter/ubicenter.py\n",
            "  Cloning http://github.com/ubicenter/ubicenter.py to /tmp/pip-req-build-yjmad7ys\n",
            "  Running command git clone -q http://github.com/ubicenter/ubicenter.py /tmp/pip-req-build-yjmad7ys\n",
            "Requirement already satisfied: plotly in /usr/local/lib/python3.7/dist-packages (from ubicenter==0.1.0) (5.1.0)\n",
            "Requirement already satisfied: six in /usr/local/lib/python3.7/dist-packages (from plotly->ubicenter==0.1.0) (1.15.0)\n",
            "Requirement already satisfied: tenacity>=6.2.0 in /usr/local/lib/python3.7/dist-packages (from plotly->ubicenter==0.1.0) (7.0.0)\n",
            "Building wheels for collected packages: ubicenter\n",
            "  Building wheel for ubicenter (setup.py) ... \u001b[?25l\u001b[?25hdone\n",
            "  Created wheel for ubicenter: filename=ubicenter-0.1.0-cp37-none-any.whl size=3139 sha256=d4aed9f8c7df25e1e3ee2d8f4be708f61a72c8c0f4d03a5813955b5be22f1c03\n",
            "  Stored in directory: /tmp/pip-ephem-wheel-cache-7gl6_x8v/wheels/7e/8b/67/3cd6474dce9223cd41201d2247e52d87fce19715f8d2defc91\n",
            "Successfully built ubicenter\n",
            "Installing collected packages: ubicenter\n",
            "Successfully installed ubicenter-0.1.0\n"
          ],
          "name": "stdout"
        }
      ]
    },
    {
      "cell_type": "code",
      "metadata": {
        "id": "fQamtxfhfugx"
      },
      "source": [
        "# Import libraries\n",
        "from sklearn.ensemble import RandomForestClassifier\n",
        "import pandas as pd\n",
        "import numpy as np\n",
        "import microdf as mdf\n",
        "import plotly.express as px\n",
        "from ubicenter import format_fig"
      ],
      "execution_count": 34,
      "outputs": []
    },
    {
      "cell_type": "code",
      "metadata": {
        "id": "UGWYNDuBhMKd"
      },
      "source": [
        "# Import data\n",
        "# person = ASEC 2018, 2019, 2020\n",
        "# voter = voter supplement 2018, 2020\n",
        "person = pd.read_csv('https://github.com/ngpsu22/Winners/raw/main/cps_00051.csv.gz')\n",
        "voter = pd.read_csv('https://github.com/ngpsu22/Winners/raw/main/cps_00052.csv.gz')"
      ],
      "execution_count": 3,
      "outputs": []
    },
    {
      "cell_type": "code",
      "metadata": {
        "id": "LE2PWEi8kJG_"
      },
      "source": [
        "# Lower columns\n",
        "person.columns = person.columns.str.lower()\n",
        "voter.columns = voter.columns.str.lower()"
      ],
      "execution_count": 4,
      "outputs": []
    },
    {
      "cell_type": "markdown",
      "metadata": {
        "id": "Op-CavjYp2fu"
      },
      "source": [
        "# Create pred_vote"
      ]
    },
    {
      "cell_type": "code",
      "metadata": {
        "id": "tHbpETiqgOqQ"
      },
      "source": [
        "# Create Boolean voted column\n",
        "voter[\"vote\"] = voter.voted == 2"
      ],
      "execution_count": 5,
      "outputs": []
    },
    {
      "cell_type": "code",
      "metadata": {
        "id": "yWhb3XSNkGeQ"
      },
      "source": [
        "# Creating training dataframe as copy of voter supplement\n",
        "train = voter.sample(frac=1.0).copy()\n",
        "train[\"vote\"] = train.voted == 2"
      ],
      "execution_count": 6,
      "outputs": []
    },
    {
      "cell_type": "code",
      "metadata": {
        "colab": {
          "base_uri": "https://localhost:8080/"
        },
        "id": "puDnu_LDrKRH",
        "outputId": "0d760700-91b0-400f-a333-0fa4381bd75a"
      },
      "source": [
        "train.columns"
      ],
      "execution_count": 7,
      "outputs": [
        {
          "output_type": "execute_result",
          "data": {
            "text/plain": [
              "Index(['year', 'serial', 'month', 'hwtfinl', 'cpsid', 'statefip', 'county',\n",
              "       'cbsasz', 'faminc', 'pernum', 'wtfinl', 'cpsidp', 'age', 'sex', 'race',\n",
              "       'marst', 'citizen', 'hispan', 'empstat', 'educ', 'hourwage', 'voted',\n",
              "       'vosuppwt', 'vote'],\n",
              "      dtype='object')"
            ]
          },
          "metadata": {
            "tags": []
          },
          "execution_count": 7
        }
      ]
    },
    {
      "cell_type": "code",
      "metadata": {
        "id": "dxawH0q4kjYu"
      },
      "source": [
        "# Train the data on the 11 key demographics\n",
        "XCOLS = ['county','statefip', 'age', 'sex', 'race', 'marst', 'citizen', 'hispan', 'empstat', 'educ', 'faminc', 'hourwage', 'cbsasz' ]\n",
        "rf = RandomForestClassifier().fit(train[XCOLS], train.vote, train.vosuppwt)"
      ],
      "execution_count": 8,
      "outputs": []
    },
    {
      "cell_type": "code",
      "metadata": {
        "id": "AixqTCtbk29f"
      },
      "source": [
        "# Apply training results to ASEC to create a predicted vote score\n",
        "preds = rf.predict_proba(person[XCOLS])\n",
        "person[\"pred_vote\"] = preds[:, 1]"
      ],
      "execution_count": 9,
      "outputs": []
    },
    {
      "cell_type": "code",
      "metadata": {
        "id": "OMzxByPDn8L3"
      },
      "source": [
        "# Set under 18 to 0, already 0 for non-citizen\n",
        "person.loc[person.age < 18, \"pred_vote\"] = 0"
      ],
      "execution_count": 10,
      "outputs": []
    },
    {
      "cell_type": "code",
      "metadata": {
        "colab": {
          "base_uri": "https://localhost:8080/"
        },
        "id": "FiMzcjjaowAi",
        "outputId": "ee572267-3a54-4929-f99d-93c646fa8cd7"
      },
      "source": [
        "# Display most relevant demographics\n",
        "pd.Series(rf.feature_importances_, index=XCOLS).sort_values(ascending=False)"
      ],
      "execution_count": 11,
      "outputs": [
        {
          "output_type": "execute_result",
          "data": {
            "text/plain": [
              "age         0.231026\n",
              "educ        0.158574\n",
              "statefip    0.112076\n",
              "faminc      0.082822\n",
              "citizen     0.073790\n",
              "county      0.073499\n",
              "empstat     0.068115\n",
              "marst       0.061631\n",
              "cbsasz      0.054417\n",
              "race        0.024558\n",
              "hispan      0.021759\n",
              "hourwage    0.019145\n",
              "sex         0.018589\n",
              "dtype: float64"
            ]
          },
          "metadata": {
            "tags": []
          },
          "execution_count": 11
        }
      ]
    },
    {
      "cell_type": "markdown",
      "metadata": {
        "id": "Cy_YlYZAp54H"
      },
      "source": [
        "# Calculate percent Winners\n",
        "\n",
        "Overall percent winners\n",
        "Eligible voter percent winners\n",
        "Predicted voter percent winners"
      ]
    },
    {
      "cell_type": "code",
      "metadata": {
        "id": "Q7QuCB7MqV3m"
      },
      "source": [
        "# Setup fixes\n",
        "person = person.rename(columns={'asecwt':'weight','statefip': 'state'})\n",
        "person.adjginc.replace({99999999: 0},inplace=True)\n",
        "person.weight /= 3\n",
        "person.spmwt /= 3"
      ],
      "execution_count": 12,
      "outputs": []
    },
    {
      "cell_type": "code",
      "metadata": {
        "colab": {
          "base_uri": "https://localhost:8080/"
        },
        "id": "VNFWLGoTqjmH",
        "outputId": "02ec6ded-ec6c-43fa-8495-04a0a6fdaa4b"
      },
      "source": [
        "# Check population estimate\n",
        "population = person.weight.sum()\n",
        "population / 1e6"
      ],
      "execution_count": 13,
      "outputs": [
        {
          "output_type": "execute_result",
          "data": {
            "text/plain": [
              "324.26003528"
            ]
          },
          "metadata": {
            "tags": []
          },
          "execution_count": 13
        }
      ]
    },
    {
      "cell_type": "code",
      "metadata": {
        "id": "hq_oUs7sq2fj"
      },
      "source": [
        "person['child'] = person.age < 18\n",
        "person['adult'] = person.age >=18\n",
        "person['person'] = 1"
      ],
      "execution_count": 14,
      "outputs": []
    },
    {
      "cell_type": "code",
      "metadata": {
        "id": "Pf7ib8r8q8qD"
      },
      "source": [
        "# Change fip codes to state codes for mapping\n",
        "person['state'] = person['state'].astype(str)\n",
        "person['state'].replace({'1':'AL','2':'AK', '4': 'AZ','5':'AR',\n",
        "                         '6': 'CA', '8': 'CO', '9': 'CT',\n",
        "                         '10':'DE', '11': 'DC', '12':'FL',\n",
        "                         '13': 'GA','15':'HI', '16':'ID','17':'IL',\n",
        "                         '18':'IN', '19':'IA','20':'KS', '21': 'KY',\n",
        "                         '22':'LA', '23': 'ME', '24': 'MD',\n",
        "                         '25':'MA', '26':'MI', '27': 'MN',\n",
        "                         '28':'MS','29':'MO', '30': 'MT',\n",
        "                         '31': 'NE', '32':'NV', '33': 'NH',\n",
        "                         '34': 'NJ', '35': 'NM', '36':'NY',\n",
        "                         '37':'NC', '38':'ND', '39': 'OH',\n",
        "                         '40':'OK', '41': 'OR', '42':'PA',\n",
        "                         '44':'RI','45':'SC', '46':'SD',\n",
        "                         '47': 'TN', '48':'TX','49':'UT','50':'VT',\n",
        "                         '51':'VA', '53':'WA', '54':'WV',\n",
        "                         '55':'WI', '56':'WY'},inplace=True)"
      ],
      "execution_count": 15,
      "outputs": []
    },
    {
      "cell_type": "code",
      "metadata": {
        "id": "__pw8uz9wWpx"
      },
      "source": [
        "# Create voting eligible boolean column\n",
        "person['eligible_voter'] = (person.age > 17) & (person.citizen < 5)"
      ],
      "execution_count": 16,
      "outputs": []
    },
    {
      "cell_type": "code",
      "metadata": {
        "id": "FmWF6WgZrCBe"
      },
      "source": [
        "# Calculate total childrem=n, adults, and AGI for each SPM unit\n",
        "group = person.groupby(['spmfamunit','year'])[['child','adult', 'adjginc', 'eligible_voter']].sum()\n",
        "group.columns = ['total_children', 'total_adults', 'total_family_income', 'total_eligible_voter']\n",
        "person = person.merge(group,left_on=['spmfamunit', 'year'], right_index=True)\n",
        "person['total_people'] = person.total_adults + person.total_children"
      ],
      "execution_count": 17,
      "outputs": []
    },
    {
      "cell_type": "code",
      "metadata": {
        "id": "AGs4BYM6wdcN"
      },
      "source": [
        "# Create dataframe with aggregated spm unit data\n",
        "PERSON_COLUMNS = ['year', 'age', 'adjginc', 'person']\n",
        "SPMU_COLUMNS = ['spmwt', 'spmtotres', 'spmfamunit', 'spmthresh', 'state']\n",
        "\n",
        "spmu = person.groupby(SPMU_COLUMNS)[PERSON_COLUMNS].sum().reset_index()\n",
        "spmu.rename(columns={'person':'numper'}, inplace=True)"
      ],
      "execution_count": 18,
      "outputs": []
    },
    {
      "cell_type": "code",
      "metadata": {
        "colab": {
          "base_uri": "https://localhost:8080/"
        },
        "id": "jcvIPEq8weZ9",
        "outputId": "afa0c28d-cdfd-46a2-ff1d-4fe81af12899"
      },
      "source": [
        "# Calculate total AGI\n",
        "total_agi = (spmu.adjginc * spmu.spmwt).sum()\n",
        "total_agi / 1e12"
      ],
      "execution_count": 19,
      "outputs": [
        {
          "output_type": "execute_result",
          "data": {
            "text/plain": [
              "10.90195144163018"
            ]
          },
          "metadata": {
            "tags": []
          },
          "execution_count": 19
        }
      ]
    },
    {
      "cell_type": "code",
      "metadata": {
        "colab": {
          "base_uri": "https://localhost:8080/"
        },
        "id": "j04AO-VxwleT",
        "outputId": "855729f2-e8e7-49df-8e20-3471916b885b"
      },
      "source": [
        "# Create a 10% flat tax and revenue neutral UBI\n",
        "# Note the amount of the flat tax does not matter for percent winners for a static model\n",
        "\n",
        "flat_tax = 0.1\n",
        "revenue = flat_tax * total_agi\n",
        "ubi = revenue / population\n",
        "ubi"
      ],
      "execution_count": 20,
      "outputs": [
        {
          "output_type": "execute_result",
          "data": {
            "text/plain": [
              "3362.101478899888"
            ]
          },
          "metadata": {
            "tags": []
          },
          "execution_count": 20
        }
      ]
    },
    {
      "cell_type": "code",
      "metadata": {
        "id": "g1lCKZ32ww0m"
      },
      "source": [
        "# Determine if each individual is a winner from the flat tax and UBI\n",
        "person['new_tax'] = person.total_family_income * flat_tax\n",
        "person['total_ubi'] = ubi * person.total_people\n",
        "person['change'] = person.total_ubi - person.new_tax\n",
        "person['winner'] = person.change > 0"
      ],
      "execution_count": 21,
      "outputs": []
    },
    {
      "cell_type": "code",
      "metadata": {
        "colab": {
          "base_uri": "https://localhost:8080/"
        },
        "id": "Lcnzoo2vxAxK",
        "outputId": "b23f9b36-7578-4e63-b436-83fbbaa21869"
      },
      "source": [
        "# Calculate the amount of eligible voters\n",
        "eligible_population = (person.weight * person.eligible_voter).sum()\n",
        "eligible_population / 1e6"
      ],
      "execution_count": 22,
      "outputs": [
        {
          "output_type": "execute_result",
          "data": {
            "text/plain": [
              "229.53209475000008"
            ]
          },
          "metadata": {
            "tags": []
          },
          "execution_count": 22
        }
      ]
    },
    {
      "cell_type": "code",
      "metadata": {
        "colab": {
          "base_uri": "https://localhost:8080/"
        },
        "id": "fCnXGRVT3XnC",
        "outputId": "7a7c8f46-2435-49d8-f6e5-5b16daa8bae6"
      },
      "source": [
        "predicted_population = (person.weight * person.pred_vote).sum()\n",
        "predicted_population / 1e6"
      ],
      "execution_count": 23,
      "outputs": [
        {
          "output_type": "execute_result",
          "data": {
            "text/plain": [
              "136.80556608455268"
            ]
          },
          "metadata": {
            "tags": []
          },
          "execution_count": 23
        }
      ]
    },
    {
      "cell_type": "code",
      "metadata": {
        "id": "fXWr2GVRHNf4"
      },
      "source": [
        "# Determine if each individual is a winner from only giving UBI to eligible voters\n",
        "ubi_ev = revenue / eligible_population\n",
        "person['total_ev_ubi'] = ubi_ev * person.total_eligible_voter\n",
        "person['change_ev'] = person.total_ev_ubi - person.new_tax\n",
        "person['winner_ev'] = person.change_ev > 0"
      ],
      "execution_count": 24,
      "outputs": []
    },
    {
      "cell_type": "code",
      "metadata": {
        "id": "DsHBwrBXxkYy"
      },
      "source": [
        "# Create function with three outputs for each state\n",
        "# 1) Overall percent winners\n",
        "# 2) Eligible voters percent winners\n",
        "# 3) Predicted voters percent winners\n",
        "\n",
        "def winners_state(state):\n",
        "\n",
        "  if state == 'US':\n",
        "    target_persons = person.copy(deep=True)\n",
        "  else:\n",
        "    target_persons = person[person.state==state].copy(deep=True)\n",
        "\n",
        "  target_population = target_persons.weight.sum()\n",
        "  target_eligible_population = (target_persons.weight * target_persons.eligible_voter).sum()\n",
        "  target_predicted_population = (target_persons.weight * target_persons.pred_vote).sum()\n",
        "\n",
        "  total_winners = (target_persons.winner * target_persons.weight).sum()\n",
        "  percent_total_winners = ((total_winners / target_population) * 100).round(1)\n",
        "\n",
        "  total_eligible_winners = (target_persons.winner * target_persons.eligible_voter * target_persons.weight).sum()\n",
        "  percent_eligible_winners = ((total_eligible_winners / target_eligible_population) * 100).round(1)\n",
        "\n",
        "  total_predicted_winners = ((target_persons.winner * target_persons.weight *\n",
        "                              target_persons.pred_vote).sum())\n",
        "  \n",
        "  percent_predicted_voters = ((total_predicted_winners / target_predicted_population) * 100).round(1)\n",
        "\n",
        "  # Calculate share of winners for UBI only given to adult citizens\n",
        "\n",
        "  total_winners_ev = (target_persons.winner_ev * target_persons.weight).sum()\n",
        "  percent_total_winners_ev = ((total_winners_ev / target_population) * 100).round(1)\n",
        "\n",
        "  total_eligible_winners_ev = (target_persons.winner_ev * target_persons.eligible_voter * target_persons.weight).sum()\n",
        "  percent_eligible_winners_ev = ((total_eligible_winners_ev / target_eligible_population) * 100).round(1)\n",
        "\n",
        "  total_predicted_winners_ev = ((target_persons.winner_ev * target_persons.weight *\n",
        "                              target_persons.pred_vote).sum())\n",
        "  \n",
        "  percent_predicted_voters_ev = ((total_predicted_winners_ev / target_predicted_population) * 100).round(1)\n",
        "\n",
        "  return pd.Series([percent_total_winners, \n",
        "                    percent_eligible_winners, \n",
        "                    percent_predicted_voters,\n",
        "                    percent_total_winners_ev, \n",
        "                    percent_eligible_winners_ev, \n",
        "                    percent_predicted_voters_ev])"
      ],
      "execution_count": 25,
      "outputs": []
    },
    {
      "cell_type": "code",
      "metadata": {
        "id": "HmPz2ps741bd"
      },
      "source": [
        "def winners_state_row(row):\n",
        "  return winners_state(row.state)"
      ],
      "execution_count": 26,
      "outputs": []
    },
    {
      "cell_type": "code",
      "metadata": {
        "id": "U5kEoryP45gg"
      },
      "source": [
        "states = person.state.unique().tolist()\n",
        "summary = mdf.cartesian_product({'state':['US'] + states})"
      ],
      "execution_count": 27,
      "outputs": []
    },
    {
      "cell_type": "code",
      "metadata": {
        "id": "zw2iThjA48Pm",
        "colab": {
          "base_uri": "https://localhost:8080/"
        },
        "outputId": "05a17934-b1af-4302-ab93-3c42da06025d"
      },
      "source": [
        "summary[['overall', 'eligible_voters','predicted_voters', 'overall_ev', 'eligible_voters_ev', 'predicted_voters_ev']] = summary.apply(winners_state_row, axis=1)"
      ],
      "execution_count": 28,
      "outputs": [
        {
          "output_type": "stream",
          "text": [
            "/usr/local/lib/python3.7/dist-packages/pandas/core/computation/expressions.py:204: UserWarning: evaluating in Python space because the '*' operator is not supported by numexpr for the bool dtype, use '&' instead\n",
            "  f\"evaluating in Python space because the {repr(op_str)} \"\n"
          ],
          "name": "stderr"
        }
      ]
    },
    {
      "cell_type": "code",
      "metadata": {
        "id": "roLns8cHSt-a"
      },
      "source": [
        "summary['majority'] = summary.predicted_voters > 50"
      ],
      "execution_count": 29,
      "outputs": []
    },
    {
      "cell_type": "code",
      "metadata": {
        "id": "yEBaYqnx5Kyt"
      },
      "source": [
        "summary = summary.sort_values(by='predicted_voters',ascending=True)"
      ],
      "execution_count": 30,
      "outputs": []
    },
    {
      "cell_type": "code",
      "metadata": {
        "colab": {
          "base_uri": "https://localhost:8080/",
          "height": 617
        },
        "id": "rYSc42REEW_l",
        "outputId": "f95126d6-ce6e-40e0-9047-1518ede6cd92"
      },
      "source": [
        "fig = px.choropleth(summary, \n",
        "              locations = 'state',\n",
        "              color=\"predicted_voters\", \n",
        "              color_continuous_scale=\"PRGn\",\n",
        "              color_continuous_midpoint=50,\n",
        "              locationmode='USA-states',\n",
        "              scope=\"usa\",\n",
        "              title='Share of predicted voters who benefit from flat tax funded UBI',\n",
        "              height=600,\n",
        "              labels={'predicted_voters': \"Percent Winners\",\n",
        "                      'state':'State',\n",
        "                    }\n",
        "             )\n",
        "\n",
        "fig.update_layout(coloraxis_showscale=False)\n",
        "\n",
        "format_fig(fig)"
      ],
      "execution_count": 37,
      "outputs": [
        {
          "output_type": "display_data",
          "data": {
            "text/html": [
              "<html>\n",
              "<head><meta charset=\"utf-8\" /></head>\n",
              "<body>\n",
              "    <div>            <script src=\"https://cdnjs.cloudflare.com/ajax/libs/mathjax/2.7.5/MathJax.js?config=TeX-AMS-MML_SVG\"></script><script type=\"text/javascript\">if (window.MathJax) {MathJax.Hub.Config({SVG: {font: \"STIX-Web\"}});}</script>                <script type=\"text/javascript\">window.PlotlyConfig = {MathJaxConfig: 'local'};</script>\n",
              "        <script src=\"https://cdn.plot.ly/plotly-2.2.0.min.js\"></script>                <div id=\"948d516a-baa6-4395-90da-914496af7d86\" class=\"plotly-graph-div\" style=\"height:600px; width:800px;\"></div>            <script type=\"text/javascript\">                                    window.PLOTLYENV=window.PLOTLYENV || {};                                    if (document.getElementById(\"948d516a-baa6-4395-90da-914496af7d86\")) {                    Plotly.newPlot(                        \"948d516a-baa6-4395-90da-914496af7d86\",                        [{\"coloraxis\":\"coloraxis\",\"geo\":\"geo\",\"hovertemplate\":\"State=%{location}<br>Percent Winners=%{z}<extra></extra>\",\"locationmode\":\"USA-states\",\"locations\":[\"DC\",\"MD\",\"MA\",\"CT\",\"CO\",\"NJ\",\"NH\",\"MN\",\"VA\",\"WA\",\"RI\",\"IL\",\"OR\",\"VT\",\"NY\",\"NE\",\"PA\",\"CA\",\"HI\",\"ND\",\"AK\",\"WI\",\"US\",\"DE\",\"OH\",\"ME\",\"AZ\",\"MI\",\"IA\",\"TX\",\"MO\",\"UT\",\"SD\",\"KS\",\"IN\",\"NV\",\"WY\",\"GA\",\"MT\",\"SC\",\"NC\",\"OK\",\"FL\",\"ID\",\"TN\",\"KY\",\"LA\",\"NM\",\"AL\",\"AR\",\"WV\",\"MS\"],\"name\":\"\",\"type\":\"choropleth\",\"z\":[32.8,40.9,42.2,43.2,43.8,44.7,44.8,45.7,46.4,46.9,47.4,48.8,49.1,49.8,49.8,50.7,51.7,51.9,52.5,52.7,52.8,53.0,53.4,53.6,54.2,54.6,54.8,55.0,55.3,55.3,55.4,56.0,56.0,56.1,56.4,56.9,58.3,58.8,59.0,59.0,59.1,59.4,59.8,60.2,60.2,60.9,62.1,62.5,62.8,63.1,66.1,70.2]}],                        {\"coloraxis\":{\"cmid\":50,\"colorbar\":{\"title\":{\"text\":\"Percent Winners\"}},\"colorscale\":[[0.0,\"rgb(64,0,75)\"],[0.1,\"rgb(118,42,131)\"],[0.2,\"rgb(153,112,171)\"],[0.3,\"rgb(194,165,207)\"],[0.4,\"rgb(231,212,232)\"],[0.5,\"rgb(247,247,247)\"],[0.6,\"rgb(217,240,211)\"],[0.7,\"rgb(166,219,160)\"],[0.8,\"rgb(90,174,97)\"],[0.9,\"rgb(27,120,55)\"],[1.0,\"rgb(0,68,27)\"]],\"showscale\":false},\"font\":{\"family\":\"Roboto\"},\"geo\":{\"center\":{},\"domain\":{\"x\":[0.0,1.0],\"y\":[0.0,1.0]},\"scope\":\"usa\"},\"height\":600,\"hoverlabel\":{\"align\":\"right\"},\"images\":[{\"sizex\":0.12,\"sizey\":0.12,\"source\":\"https://raw.githubusercontent.com/UBICenter/blog/master/jb/_static/ubi_center_logo_wide_blue.png\",\"x\":0.98,\"xanchor\":\"right\",\"xref\":\"paper\",\"y\":-0.12,\"yanchor\":\"bottom\",\"yref\":\"paper\"}],\"legend\":{\"tracegroupgap\":0},\"paper_bgcolor\":\"white\",\"plot_bgcolor\":\"white\",\"template\":{\"data\":{\"bar\":[{\"error_x\":{\"color\":\"#2a3f5f\"},\"error_y\":{\"color\":\"#2a3f5f\"},\"marker\":{\"line\":{\"color\":\"#E5ECF6\",\"width\":0.5},\"pattern\":{\"fillmode\":\"overlay\",\"size\":10,\"solidity\":0.2}},\"type\":\"bar\"}],\"barpolar\":[{\"marker\":{\"line\":{\"color\":\"#E5ECF6\",\"width\":0.5},\"pattern\":{\"fillmode\":\"overlay\",\"size\":10,\"solidity\":0.2}},\"type\":\"barpolar\"}],\"carpet\":[{\"aaxis\":{\"endlinecolor\":\"#2a3f5f\",\"gridcolor\":\"white\",\"linecolor\":\"white\",\"minorgridcolor\":\"white\",\"startlinecolor\":\"#2a3f5f\"},\"baxis\":{\"endlinecolor\":\"#2a3f5f\",\"gridcolor\":\"white\",\"linecolor\":\"white\",\"minorgridcolor\":\"white\",\"startlinecolor\":\"#2a3f5f\"},\"type\":\"carpet\"}],\"choropleth\":[{\"colorbar\":{\"outlinewidth\":0,\"ticks\":\"\"},\"type\":\"choropleth\"}],\"contour\":[{\"colorbar\":{\"outlinewidth\":0,\"ticks\":\"\"},\"colorscale\":[[0.0,\"#0d0887\"],[0.1111111111111111,\"#46039f\"],[0.2222222222222222,\"#7201a8\"],[0.3333333333333333,\"#9c179e\"],[0.4444444444444444,\"#bd3786\"],[0.5555555555555556,\"#d8576b\"],[0.6666666666666666,\"#ed7953\"],[0.7777777777777778,\"#fb9f3a\"],[0.8888888888888888,\"#fdca26\"],[1.0,\"#f0f921\"]],\"type\":\"contour\"}],\"contourcarpet\":[{\"colorbar\":{\"outlinewidth\":0,\"ticks\":\"\"},\"type\":\"contourcarpet\"}],\"heatmap\":[{\"colorbar\":{\"outlinewidth\":0,\"ticks\":\"\"},\"colorscale\":[[0.0,\"#0d0887\"],[0.1111111111111111,\"#46039f\"],[0.2222222222222222,\"#7201a8\"],[0.3333333333333333,\"#9c179e\"],[0.4444444444444444,\"#bd3786\"],[0.5555555555555556,\"#d8576b\"],[0.6666666666666666,\"#ed7953\"],[0.7777777777777778,\"#fb9f3a\"],[0.8888888888888888,\"#fdca26\"],[1.0,\"#f0f921\"]],\"type\":\"heatmap\"}],\"heatmapgl\":[{\"colorbar\":{\"outlinewidth\":0,\"ticks\":\"\"},\"colorscale\":[[0.0,\"#0d0887\"],[0.1111111111111111,\"#46039f\"],[0.2222222222222222,\"#7201a8\"],[0.3333333333333333,\"#9c179e\"],[0.4444444444444444,\"#bd3786\"],[0.5555555555555556,\"#d8576b\"],[0.6666666666666666,\"#ed7953\"],[0.7777777777777778,\"#fb9f3a\"],[0.8888888888888888,\"#fdca26\"],[1.0,\"#f0f921\"]],\"type\":\"heatmapgl\"}],\"histogram\":[{\"marker\":{\"pattern\":{\"fillmode\":\"overlay\",\"size\":10,\"solidity\":0.2}},\"type\":\"histogram\"}],\"histogram2d\":[{\"colorbar\":{\"outlinewidth\":0,\"ticks\":\"\"},\"colorscale\":[[0.0,\"#0d0887\"],[0.1111111111111111,\"#46039f\"],[0.2222222222222222,\"#7201a8\"],[0.3333333333333333,\"#9c179e\"],[0.4444444444444444,\"#bd3786\"],[0.5555555555555556,\"#d8576b\"],[0.6666666666666666,\"#ed7953\"],[0.7777777777777778,\"#fb9f3a\"],[0.8888888888888888,\"#fdca26\"],[1.0,\"#f0f921\"]],\"type\":\"histogram2d\"}],\"histogram2dcontour\":[{\"colorbar\":{\"outlinewidth\":0,\"ticks\":\"\"},\"colorscale\":[[0.0,\"#0d0887\"],[0.1111111111111111,\"#46039f\"],[0.2222222222222222,\"#7201a8\"],[0.3333333333333333,\"#9c179e\"],[0.4444444444444444,\"#bd3786\"],[0.5555555555555556,\"#d8576b\"],[0.6666666666666666,\"#ed7953\"],[0.7777777777777778,\"#fb9f3a\"],[0.8888888888888888,\"#fdca26\"],[1.0,\"#f0f921\"]],\"type\":\"histogram2dcontour\"}],\"mesh3d\":[{\"colorbar\":{\"outlinewidth\":0,\"ticks\":\"\"},\"type\":\"mesh3d\"}],\"parcoords\":[{\"line\":{\"colorbar\":{\"outlinewidth\":0,\"ticks\":\"\"}},\"type\":\"parcoords\"}],\"pie\":[{\"automargin\":true,\"type\":\"pie\"}],\"scatter\":[{\"marker\":{\"colorbar\":{\"outlinewidth\":0,\"ticks\":\"\"}},\"type\":\"scatter\"}],\"scatter3d\":[{\"line\":{\"colorbar\":{\"outlinewidth\":0,\"ticks\":\"\"}},\"marker\":{\"colorbar\":{\"outlinewidth\":0,\"ticks\":\"\"}},\"type\":\"scatter3d\"}],\"scattercarpet\":[{\"marker\":{\"colorbar\":{\"outlinewidth\":0,\"ticks\":\"\"}},\"type\":\"scattercarpet\"}],\"scattergeo\":[{\"marker\":{\"colorbar\":{\"outlinewidth\":0,\"ticks\":\"\"}},\"type\":\"scattergeo\"}],\"scattergl\":[{\"marker\":{\"colorbar\":{\"outlinewidth\":0,\"ticks\":\"\"}},\"type\":\"scattergl\"}],\"scattermapbox\":[{\"marker\":{\"colorbar\":{\"outlinewidth\":0,\"ticks\":\"\"}},\"type\":\"scattermapbox\"}],\"scatterpolar\":[{\"marker\":{\"colorbar\":{\"outlinewidth\":0,\"ticks\":\"\"}},\"type\":\"scatterpolar\"}],\"scatterpolargl\":[{\"marker\":{\"colorbar\":{\"outlinewidth\":0,\"ticks\":\"\"}},\"type\":\"scatterpolargl\"}],\"scatterternary\":[{\"marker\":{\"colorbar\":{\"outlinewidth\":0,\"ticks\":\"\"}},\"type\":\"scatterternary\"}],\"surface\":[{\"colorbar\":{\"outlinewidth\":0,\"ticks\":\"\"},\"colorscale\":[[0.0,\"#0d0887\"],[0.1111111111111111,\"#46039f\"],[0.2222222222222222,\"#7201a8\"],[0.3333333333333333,\"#9c179e\"],[0.4444444444444444,\"#bd3786\"],[0.5555555555555556,\"#d8576b\"],[0.6666666666666666,\"#ed7953\"],[0.7777777777777778,\"#fb9f3a\"],[0.8888888888888888,\"#fdca26\"],[1.0,\"#f0f921\"]],\"type\":\"surface\"}],\"table\":[{\"cells\":{\"fill\":{\"color\":\"#EBF0F8\"},\"line\":{\"color\":\"white\"}},\"header\":{\"fill\":{\"color\":\"#C8D4E3\"},\"line\":{\"color\":\"white\"}},\"type\":\"table\"}]},\"layout\":{\"annotationdefaults\":{\"arrowcolor\":\"#2a3f5f\",\"arrowhead\":0,\"arrowwidth\":1},\"autotypenumbers\":\"strict\",\"coloraxis\":{\"colorbar\":{\"outlinewidth\":0,\"ticks\":\"\"}},\"colorscale\":{\"diverging\":[[0,\"#8e0152\"],[0.1,\"#c51b7d\"],[0.2,\"#de77ae\"],[0.3,\"#f1b6da\"],[0.4,\"#fde0ef\"],[0.5,\"#f7f7f7\"],[0.6,\"#e6f5d0\"],[0.7,\"#b8e186\"],[0.8,\"#7fbc41\"],[0.9,\"#4d9221\"],[1,\"#276419\"]],\"sequential\":[[0.0,\"#0d0887\"],[0.1111111111111111,\"#46039f\"],[0.2222222222222222,\"#7201a8\"],[0.3333333333333333,\"#9c179e\"],[0.4444444444444444,\"#bd3786\"],[0.5555555555555556,\"#d8576b\"],[0.6666666666666666,\"#ed7953\"],[0.7777777777777778,\"#fb9f3a\"],[0.8888888888888888,\"#fdca26\"],[1.0,\"#f0f921\"]],\"sequentialminus\":[[0.0,\"#0d0887\"],[0.1111111111111111,\"#46039f\"],[0.2222222222222222,\"#7201a8\"],[0.3333333333333333,\"#9c179e\"],[0.4444444444444444,\"#bd3786\"],[0.5555555555555556,\"#d8576b\"],[0.6666666666666666,\"#ed7953\"],[0.7777777777777778,\"#fb9f3a\"],[0.8888888888888888,\"#fdca26\"],[1.0,\"#f0f921\"]]},\"colorway\":[\"#636efa\",\"#EF553B\",\"#00cc96\",\"#ab63fa\",\"#FFA15A\",\"#19d3f3\",\"#FF6692\",\"#B6E880\",\"#FF97FF\",\"#FECB52\"],\"font\":{\"color\":\"#2a3f5f\"},\"geo\":{\"bgcolor\":\"white\",\"lakecolor\":\"white\",\"landcolor\":\"#E5ECF6\",\"showlakes\":true,\"showland\":true,\"subunitcolor\":\"white\"},\"hoverlabel\":{\"align\":\"left\"},\"hovermode\":\"closest\",\"mapbox\":{\"style\":\"light\"},\"paper_bgcolor\":\"white\",\"plot_bgcolor\":\"#E5ECF6\",\"polar\":{\"angularaxis\":{\"gridcolor\":\"white\",\"linecolor\":\"white\",\"ticks\":\"\"},\"bgcolor\":\"#E5ECF6\",\"radialaxis\":{\"gridcolor\":\"white\",\"linecolor\":\"white\",\"ticks\":\"\"}},\"scene\":{\"xaxis\":{\"backgroundcolor\":\"#E5ECF6\",\"gridcolor\":\"white\",\"gridwidth\":2,\"linecolor\":\"white\",\"showbackground\":true,\"ticks\":\"\",\"zerolinecolor\":\"white\"},\"yaxis\":{\"backgroundcolor\":\"#E5ECF6\",\"gridcolor\":\"white\",\"gridwidth\":2,\"linecolor\":\"white\",\"showbackground\":true,\"ticks\":\"\",\"zerolinecolor\":\"white\"},\"zaxis\":{\"backgroundcolor\":\"#E5ECF6\",\"gridcolor\":\"white\",\"gridwidth\":2,\"linecolor\":\"white\",\"showbackground\":true,\"ticks\":\"\",\"zerolinecolor\":\"white\"}},\"shapedefaults\":{\"line\":{\"color\":\"#2a3f5f\"}},\"ternary\":{\"aaxis\":{\"gridcolor\":\"white\",\"linecolor\":\"white\",\"ticks\":\"\"},\"baxis\":{\"gridcolor\":\"white\",\"linecolor\":\"white\",\"ticks\":\"\"},\"bgcolor\":\"#E5ECF6\",\"caxis\":{\"gridcolor\":\"white\",\"linecolor\":\"white\",\"ticks\":\"\"}},\"title\":{\"x\":0.05},\"xaxis\":{\"automargin\":true,\"gridcolor\":\"white\",\"linecolor\":\"white\",\"ticks\":\"\",\"title\":{\"standoff\":15},\"zerolinecolor\":\"white\",\"zerolinewidth\":2},\"yaxis\":{\"automargin\":true,\"gridcolor\":\"white\",\"linecolor\":\"white\",\"ticks\":\"\",\"title\":{\"standoff\":15},\"zerolinecolor\":\"white\",\"zerolinewidth\":2}}},\"title\":{\"font\":{\"size\":20},\"text\":\"Share of predicted voters who benefit from flat tax funded UBI\"},\"width\":800,\"xaxis\":{\"tickfont\":{\"size\":14},\"title\":{\"font\":{\"color\":\"black\",\"size\":16}}},\"yaxis\":{\"tickfont\":{\"size\":14},\"title\":{\"font\":{\"color\":\"black\",\"size\":16}}}},                        {\"displayModeBar\": false, \"responsive\": true}                    ).then(function(){\n",
              "                            \n",
              "var gd = document.getElementById('948d516a-baa6-4395-90da-914496af7d86');\n",
              "var x = new MutationObserver(function (mutations, observer) {{\n",
              "        var display = window.getComputedStyle(gd).display;\n",
              "        if (!display || display === 'none') {{\n",
              "            console.log([gd, 'removed!']);\n",
              "            Plotly.purge(gd);\n",
              "            observer.disconnect();\n",
              "        }}\n",
              "}});\n",
              "\n",
              "// Listen for the removal of the full notebook cells\n",
              "var notebookContainer = gd.closest('#notebook-container');\n",
              "if (notebookContainer) {{\n",
              "    x.observe(notebookContainer, {childList: true});\n",
              "}}\n",
              "\n",
              "// Listen for the clearing of the current output cell\n",
              "var outputEl = gd.closest('.output');\n",
              "if (outputEl) {{\n",
              "    x.observe(outputEl, {childList: true});\n",
              "}}\n",
              "\n",
              "                        })                };                            </script>        </div>\n",
              "</body>\n",
              "</html>"
            ]
          },
          "metadata": {
            "tags": []
          }
        }
      ]
    }
  ]
}