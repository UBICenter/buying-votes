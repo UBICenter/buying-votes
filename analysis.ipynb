{
 "metadata": {
  "language_info": {
   "codemirror_mode": {
    "name": "ipython",
    "version": 3
   },
   "file_extension": ".py",
   "mimetype": "text/x-python",
   "name": "python",
   "nbconvert_exporter": "python",
   "pygments_lexer": "ipython3",
   "version": "3.7.7"
  },
  "orig_nbformat": 2,
  "kernelspec": {
   "name": "python377jvsc74a57bd04a68920d8e8856d089b03c157a7384bba62e0986489c1fa381bbe538cda0922c",
   "display_name": "Python 3.7.7 64-bit ('base': conda)"
  }
 },
 "nbformat": 4,
 "nbformat_minor": 2,
 "cells": [
  {
   "cell_type": "code",
   "execution_count": 1,
   "metadata": {},
   "outputs": [],
   "source": [
    "from sklearn.ensemble import RandomForestClassifier\n",
    "import pandas as pd\n",
    "import numpy as np"
   ]
  },
  {
   "cell_type": "code",
   "execution_count": 2,
   "metadata": {},
   "outputs": [],
   "source": [
    "cps = pd.read_csv(\"data/cps.csv.gz\")\n",
    "cps.columns = cps.columns.str.lower()"
   ]
  },
  {
   "cell_type": "code",
   "execution_count": 3,
   "metadata": {},
   "outputs": [
    {
     "output_type": "execute_result",
     "data": {
      "text/plain": [
       "Index(['year', 'serial', 'month', 'hwtfinl', 'cpsid', 'asecflag', 'asecwth',\n",
       "       'statefip', 'metro', 'cbsasz', 'faminc', 'pernum', 'wtfinl', 'cpsidp',\n",
       "       'asecwt', 'age', 'sex', 'race', 'marst', 'citizen', 'hispan', 'empstat',\n",
       "       'educ', 'diffany', 'inctot', 'adjginc', 'spmtotres', 'spmthresh',\n",
       "       'spmfamunit', 'hourwage', 'voted', 'vosuppwt'],\n",
       "      dtype='object')"
      ]
     },
     "metadata": {},
     "execution_count": 3
    }
   ],
   "source": [
    "cps.columns"
   ]
  },
  {
   "cell_type": "code",
   "execution_count": 4,
   "metadata": {},
   "outputs": [],
   "source": [
    "cps[\"vote\"] = cps.voted == 2"
   ]
  },
  {
   "cell_type": "code",
   "execution_count": 5,
   "metadata": {},
   "outputs": [],
   "source": [
    "p = cps[cps.month == 3].copy()  # ASEC person file\n",
    "train = cps[cps.month == 11].sample(frac=0.1).copy()  # Set to 1.0 for final analysis, will take a few minutes.\n",
    "train[\"vote\"] = train.voted == 2"
   ]
  },
  {
   "cell_type": "code",
   "execution_count": 6,
   "metadata": {},
   "outputs": [],
   "source": [
    "XCOLS = [\"statefip\", 'age', 'sex', 'race', 'marst', 'citizen', 'hispan', 'empstat', 'educ', 'hourwage', 'diffany', 'metro', 'cbsasz', 'faminc']\n",
    "rf = RandomForestClassifier().fit(train[XCOLS], train.vote, train.vosuppwt)"
   ]
  },
  {
   "cell_type": "code",
   "execution_count": 7,
   "metadata": {},
   "outputs": [],
   "source": [
    "preds = rf.predict_proba(p[XCOLS])\n",
    "p[\"pred_vote\"] = preds[:, 1]"
   ]
  },
  {
   "cell_type": "code",
   "execution_count": 8,
   "metadata": {},
   "outputs": [
    {
     "output_type": "execute_result",
     "data": {
      "text/plain": [
       "year\n",
       "2018    0.393803\n",
       "2020    0.492427\n",
       "Name: vote, dtype: float64"
      ]
     },
     "metadata": {},
     "execution_count": 8
    }
   ],
   "source": [
    "cps[cps.month == 11].groupby(\"year\").vote.mean()"
   ]
  },
  {
   "cell_type": "code",
   "execution_count": 9,
   "metadata": {},
   "outputs": [
    {
     "output_type": "execute_result",
     "data": {
      "text/plain": [
       "0.4040320349474658"
      ]
     },
     "metadata": {},
     "execution_count": 9
    }
   ],
   "source": [
    "p.pred_vote.mean()"
   ]
  },
  {
   "cell_type": "code",
   "execution_count": 10,
   "metadata": {},
   "outputs": [
    {
     "output_type": "execute_result",
     "data": {
      "text/plain": [
       "        age  educ  citizen  pred_vote\n",
       "631803   80   125        4   0.700000\n",
       "8774     50    73        5   0.070000\n",
       "615815   34    73        1   0.320000\n",
       "327080   65   111        1   0.570000\n",
       "134171    4     1        1   0.000000\n",
       "143555   73    91        1   0.760000\n",
       "587071   21    81        1   0.250000\n",
       "456416   23    73        1   0.300000\n",
       "166228   26    91        1   0.630000\n",
       "397446   51    92        1   0.944221"
      ],
      "text/html": "<div>\n<style scoped>\n    .dataframe tbody tr th:only-of-type {\n        vertical-align: middle;\n    }\n\n    .dataframe tbody tr th {\n        vertical-align: top;\n    }\n\n    .dataframe thead th {\n        text-align: right;\n    }\n</style>\n<table border=\"1\" class=\"dataframe\">\n  <thead>\n    <tr style=\"text-align: right;\">\n      <th></th>\n      <th>age</th>\n      <th>educ</th>\n      <th>citizen</th>\n      <th>pred_vote</th>\n    </tr>\n  </thead>\n  <tbody>\n    <tr>\n      <th>631803</th>\n      <td>80</td>\n      <td>125</td>\n      <td>4</td>\n      <td>0.700000</td>\n    </tr>\n    <tr>\n      <th>8774</th>\n      <td>50</td>\n      <td>73</td>\n      <td>5</td>\n      <td>0.070000</td>\n    </tr>\n    <tr>\n      <th>615815</th>\n      <td>34</td>\n      <td>73</td>\n      <td>1</td>\n      <td>0.320000</td>\n    </tr>\n    <tr>\n      <th>327080</th>\n      <td>65</td>\n      <td>111</td>\n      <td>1</td>\n      <td>0.570000</td>\n    </tr>\n    <tr>\n      <th>134171</th>\n      <td>4</td>\n      <td>1</td>\n      <td>1</td>\n      <td>0.000000</td>\n    </tr>\n    <tr>\n      <th>143555</th>\n      <td>73</td>\n      <td>91</td>\n      <td>1</td>\n      <td>0.760000</td>\n    </tr>\n    <tr>\n      <th>587071</th>\n      <td>21</td>\n      <td>81</td>\n      <td>1</td>\n      <td>0.250000</td>\n    </tr>\n    <tr>\n      <th>456416</th>\n      <td>23</td>\n      <td>73</td>\n      <td>1</td>\n      <td>0.300000</td>\n    </tr>\n    <tr>\n      <th>166228</th>\n      <td>26</td>\n      <td>91</td>\n      <td>1</td>\n      <td>0.630000</td>\n    </tr>\n    <tr>\n      <th>397446</th>\n      <td>51</td>\n      <td>92</td>\n      <td>1</td>\n      <td>0.944221</td>\n    </tr>\n  </tbody>\n</table>\n</div>"
     },
     "metadata": {},
     "execution_count": 10
    }
   ],
   "source": [
    "p[[\"age\", \"educ\", \"citizen\", \"pred_vote\"]].sample(10)"
   ]
  },
  {
   "cell_type": "code",
   "execution_count": 11,
   "metadata": {},
   "outputs": [
    {
     "output_type": "execute_result",
     "data": {
      "text/plain": [
       "        age  educ  citizen  pred_vote\n",
       "10       18    30        1       0.18\n",
       "30       18    60        1       0.16\n",
       "269      18    60        1       0.11\n",
       "274      18    71        1       0.12\n",
       "672      18    60        1       0.16\n",
       "...     ...   ...      ...        ...\n",
       "640570   18    81        1       0.45\n",
       "640648   18    60        5       0.07\n",
       "640662   18    81        1       0.29\n",
       "640721   18    73        1       0.41\n",
       "640874   18    81        1       0.29\n",
       "\n",
       "[7510 rows x 4 columns]"
      ],
      "text/html": "<div>\n<style scoped>\n    .dataframe tbody tr th:only-of-type {\n        vertical-align: middle;\n    }\n\n    .dataframe tbody tr th {\n        vertical-align: top;\n    }\n\n    .dataframe thead th {\n        text-align: right;\n    }\n</style>\n<table border=\"1\" class=\"dataframe\">\n  <thead>\n    <tr style=\"text-align: right;\">\n      <th></th>\n      <th>age</th>\n      <th>educ</th>\n      <th>citizen</th>\n      <th>pred_vote</th>\n    </tr>\n  </thead>\n  <tbody>\n    <tr>\n      <th>10</th>\n      <td>18</td>\n      <td>30</td>\n      <td>1</td>\n      <td>0.18</td>\n    </tr>\n    <tr>\n      <th>30</th>\n      <td>18</td>\n      <td>60</td>\n      <td>1</td>\n      <td>0.16</td>\n    </tr>\n    <tr>\n      <th>269</th>\n      <td>18</td>\n      <td>60</td>\n      <td>1</td>\n      <td>0.11</td>\n    </tr>\n    <tr>\n      <th>274</th>\n      <td>18</td>\n      <td>71</td>\n      <td>1</td>\n      <td>0.12</td>\n    </tr>\n    <tr>\n      <th>672</th>\n      <td>18</td>\n      <td>60</td>\n      <td>1</td>\n      <td>0.16</td>\n    </tr>\n    <tr>\n      <th>...</th>\n      <td>...</td>\n      <td>...</td>\n      <td>...</td>\n      <td>...</td>\n    </tr>\n    <tr>\n      <th>640570</th>\n      <td>18</td>\n      <td>81</td>\n      <td>1</td>\n      <td>0.45</td>\n    </tr>\n    <tr>\n      <th>640648</th>\n      <td>18</td>\n      <td>60</td>\n      <td>5</td>\n      <td>0.07</td>\n    </tr>\n    <tr>\n      <th>640662</th>\n      <td>18</td>\n      <td>81</td>\n      <td>1</td>\n      <td>0.29</td>\n    </tr>\n    <tr>\n      <th>640721</th>\n      <td>18</td>\n      <td>73</td>\n      <td>1</td>\n      <td>0.41</td>\n    </tr>\n    <tr>\n      <th>640874</th>\n      <td>18</td>\n      <td>81</td>\n      <td>1</td>\n      <td>0.29</td>\n    </tr>\n  </tbody>\n</table>\n<p>7510 rows × 4 columns</p>\n</div>"
     },
     "metadata": {},
     "execution_count": 11
    }
   ],
   "source": [
    "# Check that 18 year olds have more than zero.\n",
    "p[p.age == 18][[\"age\", \"educ\", \"citizen\", \"pred_vote\"]]"
   ]
  },
  {
   "cell_type": "code",
   "execution_count": 12,
   "metadata": {},
   "outputs": [
    {
     "output_type": "execute_result",
     "data": {
      "text/plain": [
       "age         0.205533\n",
       "educ        0.160152\n",
       "statefip    0.112634\n",
       "faminc      0.090158\n",
       "citizen     0.076154\n",
       "marst       0.068828\n",
       "empstat     0.062846\n",
       "cbsasz      0.055392\n",
       "diffany     0.043371\n",
       "metro       0.035541\n",
       "race        0.027853\n",
       "sex         0.022504\n",
       "hispan      0.021843\n",
       "hourwage    0.017190\n",
       "dtype: float64"
      ]
     },
     "metadata": {},
     "execution_count": 12
    }
   ],
   "source": [
    "pd.Series(rf.feature_importances_, index=XCOLS).sort_values(ascending=False)"
   ]
  },
  {
   "cell_type": "code",
   "execution_count": 13,
   "metadata": {},
   "outputs": [],
   "source": [
    "p.to_csv(\"data/asec_vote_prob.csv.gz\", index=False, compression=\"gzip\")"
   ]
  },
  {
   "source": [
    "* Share of population comes out ahead\n",
    "* Share of eligibleadults citizens\n",
    "* Share of predicted voters\n",
    "* Share of predicted voters by state (slice by 2022)\n",
    "* Each for a 2x2 of policy designs: include kids vs. include non-citizens\n",
    "* Add context of other polls and poverty/inequality effects\n"
   ],
   "cell_type": "markdown",
   "metadata": {}
  }
 ]
}